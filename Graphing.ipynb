{
 "cells": [
  {
   "cell_type": "markdown",
   "metadata": {},
   "source": [
    "## Setup"
   ]
  },
  {
   "cell_type": "code",
   "execution_count": 1,
   "metadata": {},
   "outputs": [],
   "source": [
    "from optimization import Optimization\n",
    "import matplotlib.pyplot as plt\n",
    "import logging\n",
    "\n",
    "title = 'Scnr 1'\n",
    "optimization = Optimization(title)"
   ]
  },
  {
   "cell_type": "code",
   "execution_count": null,
   "metadata": {},
   "outputs": [],
   "source": [
    "def optimizeAndPlot(algorithm):\n",
    "   \n",
    "    nrRuns = 7\n",
    "    seed = 13\n",
    "      \n",
    "    for seed in range(seed,seed + nrRuns):\n",
    "        log = optimization.optimizeAndLog(algorithm, simulationSeed=seed)\n",
    "        optimization.reset()\n",
    "        \n",
    "    optimization.saveFigure(algorithm)"
   ]
  },
  {
   "cell_type": "markdown",
   "metadata": {},
   "source": [
    "## Run"
   ]
  },
  {
   "cell_type": "code",
   "execution_count": null,
   "metadata": {
    "scrolled": true
   },
   "outputs": [
    {
     "name": "stdout",
     "output_type": "stream",
     "text": [
      "New best found\n",
      "Result: \t0.784155036754798\n",
      "inputSettings:\n",
      "[array([ 0.26]) 60 array([0])]\n",
      "New best found\n",
      "Result: \t2.284304039009315\n",
      "inputSettings:\n",
      "[array([ 0.58]) 60 array([0])]\n"
     ]
    }
   ],
   "source": [
    "optimizeAndPlot('Exhaustive Search')"
   ]
  },
  {
   "cell_type": "code",
   "execution_count": null,
   "metadata": {},
   "outputs": [],
   "source": [
    "optimizeAndPlot('Genetic Algorithm')"
   ]
  },
  {
   "cell_type": "code",
   "execution_count": null,
   "metadata": {},
   "outputs": [],
   "source": [
    "optimizeAndPlot('Nelder-Mead')"
   ]
  },
  {
   "cell_type": "markdown",
   "metadata": {},
   "source": [
    "### Nelder-Mead best solution at 40 simulations, Scenario 7"
   ]
  },
  {
   "cell_type": "code",
   "execution_count": null,
   "metadata": {},
   "outputs": [],
   "source": [
    "#from optimization import Optimization\n",
    "'''\n",
    "import numpy as np\n",
    "\n",
    "optimization2 = Optimization()\n",
    "\n",
    "inputSettingsResult = np.array([\n",
    "        np.array([ 0.89777178,  0.86754191]),\n",
    "        29,\n",
    "        np.array([ 0,   93.47738382 ])\n",
    "    ])\n",
    "\n",
    "\n",
    "optimization2.testResult(inputSettingsResult)\n",
    "'''"
   ]
  }
 ],
 "metadata": {
  "kernelspec": {
   "display_name": "Python 3",
   "language": "python",
   "name": "python3"
  },
  "language_info": {
   "codemirror_mode": {
    "name": "ipython",
    "version": 3
   },
   "file_extension": ".py",
   "mimetype": "text/x-python",
   "name": "python",
   "nbconvert_exporter": "python",
   "pygments_lexer": "ipython3",
   "version": "3.6.3"
  }
 },
 "nbformat": 4,
 "nbformat_minor": 2
}
