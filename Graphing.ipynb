{
 "cells": [
  {
   "cell_type": "code",
   "execution_count": 1,
   "metadata": {},
   "outputs": [],
   "source": [
    "from optimization import Optimization\n",
    "import matplotlib.pyplot as plt"
   ]
  },
  {
   "cell_type": "code",
   "execution_count": 2,
   "metadata": {},
   "outputs": [],
   "source": [
    "def optimizeAndPlot(algorithm):\n",
    "    optimization = Optimization()\n",
    "    log = optimization.optimizeAndLog(algorithm)\n",
    "\n",
    "    plt.plot(log)\n",
    "    plt.xlabel('Simulations run')\n",
    "    plt.ylabel('MSS (m/s)')\n",
    "    plt.title(algorithm)\n",
    "    plt.figure(dpi=1200)\n",
    "    plt.show()\n",
    "    plt.savefig('generated_graphs/' + algorithm + '.png')"
   ]
  },
  {
   "cell_type": "code",
   "execution_count": 3,
   "metadata": {},
   "outputs": [
    {
     "name": "stdout",
     "output_type": "stream",
     "text": [
      "Generation 1\t\tOptimization is 40.0 %...\n",
      "Generation 2\t\tOptimization is 53.3 %...\n",
      "Generation 3\t\tOptimization is 80.0 %...\n",
      "Best solution:  \t [array([ 0.66045903,  0.54123736]) 60 array([ 129.91046241,   92.33940428])]\n",
      "Best individual:\t [0.7005737930843857, 0.5515467002326905, 0.24767729992599752, 0.8119403900898577, 0.5771212767527027]\n",
      "Result:         \t 16.503628719511685\n",
      "Simulations run:\t 16\n",
      "Log generated: \n",
      "[5.042526405294147, 5.042526405294147, 5.042526405294147, 5.042526405294147, 5.042526405294147, 16.503628719511685, 16.503628719511685, 16.503628719511685, 16.503628719511685, 16.503628719511685, 16.503628719511685, 16.503628719511685, 16.503628719511685, 16.503628719511685, 16.503628719511685, 16.503628719511685]\n"
     ]
    },
    {
     "data": {
      "image/png": "[encoded data removed]",
      "text/plain": [
       "<matplotlib.figure.Figure at 0x22a3cf30550>"
      ]
     },
     "metadata": {},
     "output_type": "display_data"
    },
    {
     "data": {
      "text/plain": [
       "<matplotlib.figure.Figure at 0x22a3d097710>"
      ]
     },
     "metadata": {},
     "output_type": "display_data"
    }
   ],
   "source": [
    "optimizeAndPlot('Genetic Algorithm')"
   ]
  }
 ],
 "metadata": {
  "kernelspec": {
   "display_name": "Python 3",
   "language": "python",
   "name": "python3"
  },
  "language_info": {
   "codemirror_mode": {
    "name": "ipython",
    "version": 3
   },
   "file_extension": ".py",
   "mimetype": "text/x-python",
   "name": "python",
   "nbconvert_exporter": "python",
   "pygments_lexer": "ipython3",
   "version": "3.6.3"
  }
 },
 "nbformat": 4,
 "nbformat_minor": 2
}
