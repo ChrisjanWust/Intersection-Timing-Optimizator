{
 "cells": [
  {
   "cell_type": "code",
   "execution_count": 1,
   "metadata": {},
   "outputs": [],
   "source": [
    "from optimization import Optimization\n",
    "import matplotlib.pyplot as plt"
   ]
  },
  {
   "cell_type": "code",
   "execution_count": 2,
   "metadata": {},
   "outputs": [],
   "source": [
    "def optimizeAndPlot(algorithm):\n",
    "    optimization = Optimization()\n",
    "    log = optimization.optimizeAndLog(algorithm)\n",
    "\n",
    "    plt.plot(log)\n",
    "    plt.xlabel('Simulations run')\n",
    "    plt.ylabel('MSS (m/s)')\n",
    "    plt.title(algorithm)\n",
    "    #plt.figure(dpi=1200)\n",
    "    #plt.show()\n",
    "    plt.savefig('generated_graphs/' + algorithm + '.png', dpi=300)"
   ]
  },
  {
   "cell_type": "code",
   "execution_count": 3,
   "metadata": {
    "scrolled": true
   },
   "outputs": [
    {
     "name": "stdout",
     "output_type": "stream",
     "text": [
      "New best found\n",
      "Result: \t 10.067326294646021\n",
      "inputSettings:\n",
      " [array([ 0.86482742,  0.85826199]) 29 array([  0.        ,  13.57951923])]\n",
      "New best found\n",
      "Result: \t 10.26172775036749\n",
      "inputSettings:\n",
      " [array([ 0.86482742,  0.85826199]) 29 array([   0.      ,  137.941928])]\n",
      "New best found\n",
      "Result: \t 10.353281961372097\n",
      "inputSettings:\n",
      " [array([ 0.89258303,  0.85826199]) 29 array([  0.        ,  93.47738382])]\n",
      "New best found\n",
      "Result: \t 10.463417473368601\n",
      "inputSettings:\n",
      " [array([ 0.89258303,  0.86754191]) 29 array([  0.        ,  93.47738382])]\n",
      "New best found\n",
      "Result: \t 10.467007356917264\n",
      "inputSettings:\n",
      " [array([ 0.89777178,  0.86754191]) 29 array([  0.        ,  93.47738382])]\n",
      "----------  Genetic Algortihm results ----------\n",
      "Best solution:  \t [array([ 0.89777178,  0.86754191]) 29 array([  0.        ,  93.47738382])]\n",
      "Result:         \t 10.467007356917264\n",
      "Simulations run:\t 52\n",
      "Result log:     \t [10.067326294646021, 10.067326294646021, 10.067326294646021, 10.067326294646021, 10.067326294646021, 10.067326294646021, 10.067326294646021, 10.067326294646021, 10.067326294646021, 10.067326294646021, 10.067326294646021, 10.067326294646021, 10.067326294646021, 10.067326294646021, 10.26172775036749, 10.26172775036749, 10.26172775036749, 10.26172775036749, 10.26172775036749, 10.26172775036749, 10.26172775036749, 10.26172775036749, 10.26172775036749, 10.26172775036749, 10.26172775036749, 10.26172775036749, 10.26172775036749, 10.26172775036749, 10.26172775036749, 10.353281961372097, 10.353281961372097, 10.353281961372097, 10.353281961372097, 10.353281961372097, 10.353281961372097, 10.353281961372097, 10.353281961372097, 10.463417473368601, 10.463417473368601, 10.463417473368601, 10.463417473368601, 10.463417473368601, 10.467007356917264, 10.467007356917264, 10.467007356917264, 10.467007356917264, 10.467007356917264, 10.467007356917264, 10.467007356917264, 10.467007356917264, 10.467007356917264, 10.467007356917264]\n"
     ]
    }
   ],
   "source": [
    "optimizeAndPlot('Genetic Algorithm')"
   ]
  },
  {
   "cell_type": "code",
   "execution_count": 4,
   "metadata": {},
   "outputs": [
    {
     "name": "stdout",
     "output_type": "stream",
     "text": [
      "10.467007356917264\n"
     ]
    }
   ],
   "source": [
    "#from optimization import Optimization\n",
    "import numpy as np\n",
    "\n",
    "optimization2 = Optimization()\n",
    "\n",
    "inputSettingsResult = np.array([\n",
    "        np.array([ 0.89777178,  0.86754191]),\n",
    "        29,\n",
    "        np.array([ 0,   93.47738382 ])\n",
    "    ])\n",
    "\n",
    "\n",
    "optimization2.testResult(inputSettingsResult)"
   ]
  },
  {
   "cell_type": "code",
   "execution_count": null,
   "metadata": {},
   "outputs": [],
   "source": [
    "optimizeAndPlot('Nelder Mead')"
   ]
  },
  {
   "cell_type": "markdown",
   "metadata": {},
   "source": [
    "### Nelder-Mead best solution at 40 simulations, Scenario 7"
   ]
  },
  {
   "cell_type": "code",
   "execution_count": null,
   "metadata": {},
   "outputs": [],
   "source": [
    "# [array([ 0.3125,  0.425 ]) 65.625 array([  0.       ,  12.3046875])]\n",
    "\n",
    "from optimization import Optimization\n",
    "import numpy as np\n",
    "\n",
    "optimization2 = Optimization()\n",
    "\n",
    "inputSettingsResult = np.array([\n",
    "        np.array([ 0.3125,  0.425 ]),\n",
    "        65.625,\n",
    "        np.array([ 0,   12.3046875 ])\n",
    "    ])\n",
    "\n",
    "\n",
    "optimization2.testResult(inputSettingsResult)"
   ]
  },
  {
   "cell_type": "code",
   "execution_count": null,
   "metadata": {},
   "outputs": [],
   "source": []
  }
 ],
 "metadata": {
  "kernelspec": {
   "display_name": "Python 3",
   "language": "python",
   "name": "python3"
  },
  "language_info": {
   "codemirror_mode": {
    "name": "ipython",
    "version": 3
   },
   "file_extension": ".py",
   "mimetype": "text/x-python",
   "name": "python",
   "nbconvert_exporter": "python",
   "pygments_lexer": "ipython3",
   "version": "3.6.3"
  }
 },
 "nbformat": 4,
 "nbformat_minor": 2
}
