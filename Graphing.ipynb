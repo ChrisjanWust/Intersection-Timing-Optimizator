{
 "cells": [
  {
   "cell_type": "markdown",
   "metadata": {},
   "source": [
    "## Setup"
   ]
  },
  {
   "cell_type": "code",
   "execution_count": 1,
   "metadata": {},
   "outputs": [],
   "source": [
    "from optimization import Optimization\n",
    "import matplotlib.pyplot as plt\n",
    "import logging\n",
    "\n",
    "scenario = 'Scenario 1'\n",
    "optimization = Optimization(scenario)"
   ]
  },
  {
   "cell_type": "code",
   "execution_count": 2,
   "metadata": {},
   "outputs": [],
   "source": [
    "def optimizeAndPlot(algorithm):\n",
    "   \n",
    "    nrRuns = 2\n",
    "    seed = 13\n",
    "      \n",
    "    for seed in range(seed,seed + nrRuns):\n",
    "        log = optimization.optimizeAndLog(algorithm, simulationSeed=seed)\n",
    "        optimization.reset()\n",
    "        \n",
    "    optimization.saveFigure(algorithm, scenario)"
   ]
  },
  {
   "cell_type": "markdown",
   "metadata": {},
   "source": [
    "## Run"
   ]
  },
  {
   "cell_type": "code",
   "execution_count": 3,
   "metadata": {
    "scrolled": true
   },
   "outputs": [
    {
     "name": "stdout",
     "output_type": "stream",
     "text": [
      "New best found\n",
      "Result: \t2.2100531485940214\n",
      "inputSettings:\n",
      "[array([ 0.5]) 60 array([0])]\n",
      "---------- Exhaustive Search results ----------\n",
      "Best solution:  \t[array([ 0.5]) 60 array([0])]\n",
      "Result:         \t2.2100531485940214\n",
      "Simulations run:\t6\n",
      "Result log:     \t[0, 2.2100531485940214, 2.2100531485940214, 2.2100531485940214, 2.2100531485940214, 2.2100531485940214, 2.2100531485940214]\n",
      "New best found\n",
      "Result: \t0.5917984930277428\n",
      "inputSettings:\n",
      "[array([ 0.5]) 60 array([0])]\n",
      "New best found\n",
      "Result: \t0.8439258275023365\n",
      "inputSettings:\n",
      "[array([ 0.9]) 60 array([0])]\n",
      "New best found\n",
      "Result: \t0.847448550203343\n",
      "inputSettings:\n",
      "[array([ 0.9]) 80.0 array([0])]\n",
      "New best found\n",
      "Result: \t1.1483068067457023\n",
      "inputSettings:\n",
      "[array([ 0.9]) 160.0 array([0])]\n",
      "---------- Exhaustive Search results ----------\n",
      "Best solution:  \t[array([ 0.9]) 160.0 array([0])]\n",
      "Result:         \t1.1483068067457023\n",
      "Simulations run:\t6\n",
      "Result log:     \t[0, 0.5917984930277428, 0.8439258275023365, 0.847448550203343, 1.1483068067457023, 1.1483068067457023, 1.1483068067457023]\n"
     ]
    }
   ],
   "source": [
    "optimizeAndPlot('Exhaustive Search')"
   ]
  },
  {
   "cell_type": "code",
   "execution_count": 4,
   "metadata": {},
   "outputs": [
    {
     "name": "stdout",
     "output_type": "stream",
     "text": [
      "New best found\n",
      "Result: \t0.5569791695313092\n",
      "inputSettings:\n",
      "[array([ 0.47040589]) 80 array([0])]\n",
      "New best found\n",
      "Result: \t0.8525452029232278\n",
      "inputSettings:\n",
      "[array([ 0.21083153]) 159 array([0])]\n",
      "New best found\n",
      "Result: \t1.0641373399256615\n",
      "inputSettings:\n",
      "[array([ 0.10514804]) 100 array([0])]\n",
      "New best found\n",
      "Result: \t2.051176540270279\n",
      "inputSettings:\n",
      "[array([ 0.66278431]) 92 array([0])]\n",
      "New best found\n",
      "Result: \t5.661137235266618\n",
      "inputSettings:\n",
      "[array([ 0.68005229]) 45 array([0])]\n",
      "---------- Genetic Algortihm results ----------\n",
      "Best solution:  \t[array([ 0.68005229]) 45 array([0])]\n",
      "Result:         \t5.661137235266618\n",
      "Simulations run:\t8\n",
      "Result log:     \t[0, 0.5569791695313092, 0.8525452029232278, 1.0641373399256615, 1.0641373399256615, 1.0641373399256615, 1.0641373399256615, 2.051176540270279, 5.661137235266618]\n"
     ]
    },
    {
     "name": "stderr",
     "output_type": "stream",
     "text": [
      "C:\\WinPython-64bit-3.6.3.0Qt5\\python-3.6.3.amd64\\lib\\site-packages\\deap\\creator.py:141: RuntimeWarning: A class named 'FitnessMax' has already been created and it will be overwritten. Consider deleting previous creation of that class or rename it.\n",
      "  RuntimeWarning)\n",
      "C:\\WinPython-64bit-3.6.3.0Qt5\\python-3.6.3.amd64\\lib\\site-packages\\deap\\creator.py:141: RuntimeWarning: A class named 'Individual' has already been created and it will be overwritten. Consider deleting previous creation of that class or rename it.\n",
      "  RuntimeWarning)\n"
     ]
    },
    {
     "name": "stdout",
     "output_type": "stream",
     "text": [
      "New best found\n",
      "Result: \t0.7356077498912116\n",
      "inputSettings:\n",
      "[array([ 0.29040976]) 38 array([0])]\n",
      "New best found\n",
      "Result: \t0.9768253947363745\n",
      "inputSettings:\n",
      "[array([ 0.57234277]) 144 array([0])]\n",
      "New best found\n",
      "Result: \t1.103599669369042\n",
      "inputSettings:\n",
      "[array([ 0.18133555]) 67 array([0])]\n",
      "New best found\n",
      "Result: \t2.3570608421258115\n",
      "inputSettings:\n",
      "[array([ 0.43740432]) 34 array([0])]\n",
      "---------- Genetic Algortihm results ----------\n",
      "Best solution:  \t[array([ 0.43740432]) 34 array([0])]\n",
      "Result:         \t2.3570608421258115\n",
      "Simulations run:\t8\n",
      "Result log:     \t[0, 0.7356077498912116, 0.7356077498912116, 0.9768253947363745, 0.9768253947363745, 1.103599669369042, 1.103599669369042, 2.3570608421258115, 2.3570608421258115]\n"
     ]
    }
   ],
   "source": [
    "optimizeAndPlot('Genetic Algorithm')"
   ]
  },
  {
   "cell_type": "code",
   "execution_count": 5,
   "metadata": {},
   "outputs": [
    {
     "name": "stdout",
     "output_type": "stream",
     "text": [
      "New best found\n",
      "Result: \t2.2100531485940214\n",
      "inputSettings:\n",
      "[array([ 0.5]) 60 array([0])]\n",
      "New best found\n",
      "Result: \t6.258617681721933\n",
      "inputSettings:\n",
      "[array([ 0.5]) 30.0 array([0])]\n",
      "---------- Nelder Mead results ----------\n",
      "Best solution:  \t[array([ 0.5]) 30.0 array([0])]\n",
      "Result:         \t6.258617681721933\n",
      "Simulations run:\t4\n",
      "Result log:     \t[0, 2.2100531485940214, 2.2100531485940214, 2.2100531485940214, 6.258617681721933]\n",
      "New best found\n",
      "Result: \t0.5917984930277428\n",
      "inputSettings:\n",
      "[array([ 0.5]) 60 array([0])]\n",
      "New best found\n",
      "Result: \t0.6323452387891214\n",
      "inputSettings:\n",
      "[array([ 0.5]) 60 array([0])]\n",
      "New best found\n",
      "Result: \t2.484707252159119\n",
      "inputSettings:\n",
      "[array([ 0.5]) 30.0 array([0])]\n",
      "---------- Nelder Mead results ----------\n",
      "Best solution:  \t[array([ 0.5]) 30.0 array([0])]\n",
      "Result:         \t2.484707252159119\n",
      "Simulations run:\t4\n",
      "Result log:     \t[0, 0.5917984930277428, 0.5917984930277428, 0.6323452387891214, 2.484707252159119]\n"
     ]
    }
   ],
   "source": [
    "optimizeAndPlot('Nelder-Mead')"
   ]
  },
  {
   "cell_type": "markdown",
   "metadata": {},
   "source": [
    "### Nelder-Mead best solution at 40 simulations, Scenario 7"
   ]
  },
  {
   "cell_type": "code",
   "execution_count": 6,
   "metadata": {},
   "outputs": [
    {
     "name": "stdout",
     "output_type": "stream",
     "text": [
      "ALL LOGS\n",
      "[[array([ 0.        ,  2.21005315,  2.21005315,  2.21005315]), array([ 0.        ,  0.59179849,  0.84392583,  0.84744855])], [array([ 0.        ,  0.55697917,  0.8525452 ,  1.06413734]), array([ 0.        ,  0.73560775,  0.73560775,  0.97682539])], [array([ 0.        ,  2.21005315,  2.21005315,  2.21005315]), array([ 0.        ,  0.59179849,  0.59179849,  0.63234524])], []]\n",
      "LABELS\n",
      "['Exhaustive Search', 'Genetic Algorithm', 'Nelder-Mead']\n",
      "Exhaustive Search\n",
      "Genetic Algorithm\n",
      "Nelder-Mead\n"
     ]
    }
   ],
   "source": [
    "optimization.saveAverageFigure('Comparison of average results' + ' - ' + scenario)"
   ]
  },
  {
   "cell_type": "code",
   "execution_count": null,
   "metadata": {},
   "outputs": [],
   "source": []
  }
 ],
 "metadata": {
  "kernelspec": {
   "display_name": "Python 3",
   "language": "python",
   "name": "python3"
  },
  "language_info": {
   "codemirror_mode": {
    "name": "ipython",
    "version": 3
   },
   "file_extension": ".py",
   "mimetype": "text/x-python",
   "name": "python",
   "nbconvert_exporter": "python",
   "pygments_lexer": "ipython3",
   "version": "3.6.3"
  }
 },
 "nbformat": 4,
 "nbformat_minor": 2
}
